{
 "cells": [
  {
   "cell_type": "code",
   "execution_count": 3,
   "metadata": {
    "execution": {
     "iopub.execute_input": "2024-12-02T13:46:20.212631Z",
     "iopub.status.busy": "2024-12-02T13:46:20.212176Z",
     "iopub.status.idle": "2024-12-02T13:46:20.632785Z",
     "shell.execute_reply": "2024-12-02T13:46:20.631607Z",
     "shell.execute_reply.started": "2024-12-02T13:46:20.212595Z"
    },
    "trusted": true
   },
   "outputs": [],
   "source": [
    "import pandas as pd\n",
    "import numpy as np\n",
    "from sklearn.feature_extraction.text import TfidfVectorizer\n",
    "import pickle\n",
    "from sklearn.metrics.pairwise import cosine_similarity"
   ]
  },
  {
   "cell_type": "code",
   "execution_count": 4,
   "metadata": {
    "_cell_guid": "b1076dfc-b9ad-4769-8c92-a6c4dae69d19",
    "_uuid": "8f2839f25d086af736a60e9eeb907d3b93b6e0e5",
    "execution": {
     "iopub.execute_input": "2024-12-02T13:46:20.635184Z",
     "iopub.status.busy": "2024-12-02T13:46:20.634648Z",
     "iopub.status.idle": "2024-12-02T13:46:20.833016Z",
     "shell.execute_reply": "2024-12-02T13:46:20.831711Z",
     "shell.execute_reply.started": "2024-12-02T13:46:20.635149Z"
    },
    "trusted": true
   },
   "outputs": [
    {
     "data": {
      "text/html": [
       "<div>\n",
       "<style scoped>\n",
       "    .dataframe tbody tr th:only-of-type {\n",
       "        vertical-align: middle;\n",
       "    }\n",
       "\n",
       "    .dataframe tbody tr th {\n",
       "        vertical-align: top;\n",
       "    }\n",
       "\n",
       "    .dataframe thead th {\n",
       "        text-align: right;\n",
       "    }\n",
       "</style>\n",
       "<table border=\"1\" class=\"dataframe\">\n",
       "  <thead>\n",
       "    <tr style=\"text-align: right;\">\n",
       "      <th></th>\n",
       "      <th>id</th>\n",
       "      <th>gender</th>\n",
       "      <th>masterCategory</th>\n",
       "      <th>subCategory</th>\n",
       "      <th>articleType</th>\n",
       "      <th>baseColour</th>\n",
       "      <th>season</th>\n",
       "      <th>year</th>\n",
       "      <th>usage</th>\n",
       "      <th>productDisplayName</th>\n",
       "    </tr>\n",
       "  </thead>\n",
       "  <tbody>\n",
       "    <tr>\n",
       "      <th>0</th>\n",
       "      <td>15970</td>\n",
       "      <td>Men</td>\n",
       "      <td>Apparel</td>\n",
       "      <td>Topwear</td>\n",
       "      <td>Shirts</td>\n",
       "      <td>Navy Blue</td>\n",
       "      <td>Fall</td>\n",
       "      <td>2011.0</td>\n",
       "      <td>Casual</td>\n",
       "      <td>Turtle Check Men Navy Blue Shirt</td>\n",
       "    </tr>\n",
       "    <tr>\n",
       "      <th>1</th>\n",
       "      <td>39386</td>\n",
       "      <td>Men</td>\n",
       "      <td>Apparel</td>\n",
       "      <td>Bottomwear</td>\n",
       "      <td>Jeans</td>\n",
       "      <td>Blue</td>\n",
       "      <td>Summer</td>\n",
       "      <td>2012.0</td>\n",
       "      <td>Casual</td>\n",
       "      <td>Peter England Men Party Blue Jeans</td>\n",
       "    </tr>\n",
       "    <tr>\n",
       "      <th>2</th>\n",
       "      <td>59263</td>\n",
       "      <td>Women</td>\n",
       "      <td>Accessories</td>\n",
       "      <td>Watches</td>\n",
       "      <td>Watches</td>\n",
       "      <td>Silver</td>\n",
       "      <td>Winter</td>\n",
       "      <td>2016.0</td>\n",
       "      <td>Casual</td>\n",
       "      <td>Titan Women Silver Watch</td>\n",
       "    </tr>\n",
       "    <tr>\n",
       "      <th>3</th>\n",
       "      <td>21379</td>\n",
       "      <td>Men</td>\n",
       "      <td>Apparel</td>\n",
       "      <td>Bottomwear</td>\n",
       "      <td>Track Pants</td>\n",
       "      <td>Black</td>\n",
       "      <td>Fall</td>\n",
       "      <td>2011.0</td>\n",
       "      <td>Casual</td>\n",
       "      <td>Manchester United Men Solid Black Track Pants</td>\n",
       "    </tr>\n",
       "    <tr>\n",
       "      <th>4</th>\n",
       "      <td>53759</td>\n",
       "      <td>Men</td>\n",
       "      <td>Apparel</td>\n",
       "      <td>Topwear</td>\n",
       "      <td>Tshirts</td>\n",
       "      <td>Grey</td>\n",
       "      <td>Summer</td>\n",
       "      <td>2012.0</td>\n",
       "      <td>Casual</td>\n",
       "      <td>Puma Men Grey T-shirt</td>\n",
       "    </tr>\n",
       "  </tbody>\n",
       "</table>\n",
       "</div>"
      ],
      "text/plain": [
       "      id gender masterCategory subCategory  articleType baseColour  season  \\\n",
       "0  15970    Men        Apparel     Topwear       Shirts  Navy Blue    Fall   \n",
       "1  39386    Men        Apparel  Bottomwear        Jeans       Blue  Summer   \n",
       "2  59263  Women    Accessories     Watches      Watches     Silver  Winter   \n",
       "3  21379    Men        Apparel  Bottomwear  Track Pants      Black    Fall   \n",
       "4  53759    Men        Apparel     Topwear      Tshirts       Grey  Summer   \n",
       "\n",
       "     year   usage                             productDisplayName  \n",
       "0  2011.0  Casual               Turtle Check Men Navy Blue Shirt  \n",
       "1  2012.0  Casual             Peter England Men Party Blue Jeans  \n",
       "2  2016.0  Casual                       Titan Women Silver Watch  \n",
       "3  2011.0  Casual  Manchester United Men Solid Black Track Pants  \n",
       "4  2012.0  Casual                          Puma Men Grey T-shirt  "
      ]
     },
     "execution_count": 4,
     "metadata": {},
     "output_type": "execute_result"
    }
   ],
   "source": [
    "filepath = \"/kaggle/input/fashion-product-images-small/styles.csv\"\n",
    "\n",
    "df = pd.read_csv(filepath, on_bad_lines='skip')\n",
    "\n",
    "df.head()"
   ]
  },
  {
   "cell_type": "code",
   "execution_count": 5,
   "metadata": {
    "execution": {
     "iopub.execute_input": "2024-12-02T13:46:20.930015Z",
     "iopub.status.busy": "2024-12-02T13:46:20.929576Z",
     "iopub.status.idle": "2024-12-02T13:46:20.945560Z",
     "shell.execute_reply": "2024-12-02T13:46:20.944413Z",
     "shell.execute_reply.started": "2024-12-02T13:46:20.929979Z"
    },
    "trusted": true
   },
   "outputs": [],
   "source": [
    "df = df[['id', 'articleType', 'usage']]"
   ]
  },
  {
   "cell_type": "code",
   "execution_count": null,
   "metadata": {
    "execution": {
     "iopub.execute_input": "2024-12-02T13:46:21.267803Z",
     "iopub.status.busy": "2024-12-02T13:46:21.267357Z",
     "iopub.status.idle": "2024-12-02T13:46:21.330210Z",
     "shell.execute_reply": "2024-12-02T13:46:21.328978Z",
     "shell.execute_reply.started": "2024-12-02T13:46:21.267769Z"
    },
    "trusted": true
   },
   "outputs": [
    {
     "name": "stderr",
     "output_type": "stream",
     "text": [
      "/tmp/ipykernel_30/3757192937.py:15: DeprecationWarning: DataFrameGroupBy.apply operated on the grouping columns. This behavior is deprecated, and in a future version of pandas the grouping columns will be excluded from the operation. Either pass `include_groups=False` to exclude the groupings or explicitly select the grouping columns after groupby to silence this warning.\n",
      "  .apply(lambda x: x.sample(n=min(len(x), 20), random_state=42))\n"
     ]
    },
    {
     "data": {
      "text/html": [
       "<div>\n",
       "<style scoped>\n",
       "    .dataframe tbody tr th:only-of-type {\n",
       "        vertical-align: middle;\n",
       "    }\n",
       "\n",
       "    .dataframe tbody tr th {\n",
       "        vertical-align: top;\n",
       "    }\n",
       "\n",
       "    .dataframe thead th {\n",
       "        text-align: right;\n",
       "    }\n",
       "</style>\n",
       "<table border=\"1\" class=\"dataframe\">\n",
       "  <thead>\n",
       "    <tr style=\"text-align: right;\">\n",
       "      <th></th>\n",
       "      <th>id</th>\n",
       "      <th>articleType</th>\n",
       "      <th>usage</th>\n",
       "    </tr>\n",
       "  </thead>\n",
       "  <tbody>\n",
       "    <tr>\n",
       "      <th>0</th>\n",
       "      <td>21248</td>\n",
       "      <td>Backpacks</td>\n",
       "      <td>Casual</td>\n",
       "    </tr>\n",
       "    <tr>\n",
       "      <th>1</th>\n",
       "      <td>25880</td>\n",
       "      <td>Backpacks</td>\n",
       "      <td>Casual</td>\n",
       "    </tr>\n",
       "    <tr>\n",
       "      <th>2</th>\n",
       "      <td>25870</td>\n",
       "      <td>Backpacks</td>\n",
       "      <td>Casual</td>\n",
       "    </tr>\n",
       "    <tr>\n",
       "      <th>3</th>\n",
       "      <td>32864</td>\n",
       "      <td>Backpacks</td>\n",
       "      <td>Casual</td>\n",
       "    </tr>\n",
       "    <tr>\n",
       "      <th>4</th>\n",
       "      <td>38738</td>\n",
       "      <td>Backpacks</td>\n",
       "      <td>Casual</td>\n",
       "    </tr>\n",
       "  </tbody>\n",
       "</table>\n",
       "</div>"
      ],
      "text/plain": [
       "      id articleType   usage\n",
       "0  21248   Backpacks  Casual\n",
       "1  25880   Backpacks  Casual\n",
       "2  25870   Backpacks  Casual\n",
       "3  32864   Backpacks  Casual\n",
       "4  38738   Backpacks  Casual"
      ]
     },
     "execution_count": 6,
     "metadata": {},
     "output_type": "execute_result"
    }
   ],
   "source": [
    "valid_article_types = [\n",
    "    'Shirts', 'Tshirts', 'Jeans', 'Casual Shoes', 'Flip Flops',\n",
    "    'Tops', 'Sandals', 'Sweatshirts', 'Formal Shoes', 'Flats',\n",
    "    'Sports Shoes', 'Heels', 'Dresses', 'Backpacks', 'Caps',\n",
    "    'Trousers', 'Jackets', 'Sweaters', 'Skirts'\n",
    "]\n",
    "valid_usages = ['Casual', 'Formal', 'Sports']\n",
    "\n",
    "filtered_df = df[df['articleType'].isin(valid_article_types) & df['usage'].isin(valid_usages)]\n",
    "\n",
    "final_df = (\n",
    "    filtered_df\n",
    "    .groupby(['articleType', 'usage'], group_keys=False)\n",
    "    .apply(lambda x: x.sample(n=min(len(x), 20), random_state=42))\n",
    "    .reset_index(drop=True)\n",
    ")\n",
    "\n",
    "final_df.head()"
   ]
  },
  {
   "cell_type": "code",
   "execution_count": null,
   "metadata": {
    "execution": {
     "iopub.execute_input": "2024-12-02T13:46:21.576256Z",
     "iopub.status.busy": "2024-12-02T13:46:21.575869Z",
     "iopub.status.idle": "2024-12-02T13:46:21.590042Z",
     "shell.execute_reply": "2024-12-02T13:46:21.588492Z",
     "shell.execute_reply.started": "2024-12-02T13:46:21.576224Z"
    },
    "trusted": true
   },
   "outputs": [
    {
     "name": "stdout",
     "output_type": "stream",
     "text": [
      " usage  articleType  count\n",
      "Casual    Backpacks     20\n",
      "Casual         Caps     20\n",
      "Casual Casual Shoes     20\n",
      "Casual      Dresses     20\n",
      "Casual        Flats     20\n",
      "Casual   Flip Flops     20\n",
      "Casual Formal Shoes     20\n",
      "Casual        Heels     20\n",
      "Casual      Jackets     20\n",
      "Casual        Jeans     20\n",
      "Casual      Sandals     20\n",
      "Casual       Shirts     20\n",
      "Casual       Skirts     20\n",
      "Casual Sports Shoes     20\n",
      "Casual     Sweaters     20\n",
      "Casual  Sweatshirts     20\n",
      "Casual         Tops     20\n",
      "Casual     Trousers     20\n",
      "Casual      Tshirts     20\n",
      "Formal Casual Shoes     14\n",
      "Formal      Dresses      2\n",
      "Formal        Flats      1\n",
      "Formal Formal Shoes     20\n",
      "Formal        Heels     20\n",
      "Formal      Sandals      9\n",
      "Formal       Shirts     20\n",
      "Formal       Skirts     13\n",
      "Formal         Tops      3\n",
      "Formal     Trousers     20\n",
      "Formal      Tshirts      2\n",
      "Sports    Backpacks     20\n",
      "Sports         Caps     20\n",
      "Sports Casual Shoes     12\n",
      "Sports        Flats      2\n",
      "Sports   Flip Flops      7\n",
      "Sports      Jackets     20\n",
      "Sports      Sandals     11\n",
      "Sports       Skirts      5\n",
      "Sports Sports Shoes     20\n",
      "Sports     Sweaters      8\n",
      "Sports  Sweatshirts     20\n",
      "Sports         Tops     12\n",
      "Sports      Tshirts     20\n"
     ]
    }
   ],
   "source": [
    "combination_counts = final_df.groupby(['usage', 'articleType']).size().reset_index(name='count')\n",
    "\n",
    "print(combination_counts.to_string(index=False))"
   ]
  },
  {
   "cell_type": "code",
   "execution_count": null,
   "metadata": {
    "execution": {
     "iopub.execute_input": "2024-12-02T13:46:22.074722Z",
     "iopub.status.busy": "2024-12-02T13:46:22.074273Z",
     "iopub.status.idle": "2024-12-02T13:46:23.821238Z",
     "shell.execute_reply": "2024-12-02T13:46:23.820070Z",
     "shell.execute_reply.started": "2024-12-02T13:46:22.074686Z"
    },
    "trusted": true
   },
   "outputs": [
    {
     "name": "stdout",
     "output_type": "stream",
     "text": [
      "Model berhasil dilatih dengan perhitungan cosine similarity manual dan disimpan.\n"
     ]
    }
   ],
   "source": [
    "final_df['combined_features'] = final_df['articleType'] + ' ' + final_df['usage']\n",
    "\n",
    "tfidf = TfidfVectorizer()\n",
    "tfidf_matrix = tfidf.fit_transform(final_df['combined_features'])\n",
    "\n",
    "def compute_similarity_matrix(vectors):\n",
    "    n = vectors.shape[0]\n",
    "    similarity_matrix = np.zeros((n, n))\n",
    "    \n",
    "    for i in range(n):\n",
    "        for j in range(i, n):  \n",
    "            vector1 = vectors[i]\n",
    "            vector2 = vectors[j]\n",
    "            \n",
    "            dot_product = np.dot(vector1, vector2)\n",
    "            \n",
    "            norm1 = np.linalg.norm(vector1)\n",
    "            norm2 = np.linalg.norm(vector2)\n",
    "            \n",
    "            similarity = dot_product / (norm1 * norm2) if norm1 > 0 and norm2 > 0 else 0\n",
    "            similarity_matrix[i, j] = similarity\n",
    "            similarity_matrix[j, i] = similarity \n",
    "        \n",
    "    return similarity_matrix\n",
    "\n",
    "tfidf_array = tfidf_matrix.toarray()\n",
    "\n",
    "cosine_sim_manual = compute_similarity_matrix(tfidf_array)\n",
    "\n",
    "model = {\n",
    "    'tfidf': tfidf,\n",
    "    'cosine_sim': cosine_sim_manual\n",
    "}\n",
    "\n",
    "with open('trained_model_manual.pkl', 'wb') as model_file:\n",
    "    pickle.dump(model, model_file)\n",
    "\n",
    "print(\"Model berhasil dilatih dengan perhitungan cosine similarity manual dan disimpan.\")"
   ]
  },
  {
   "cell_type": "markdown",
   "metadata": {},
   "source": [
    "-----------------------------------------------------------------------------------------------------------------------------------------------------------------"
   ]
  },
  {
   "cell_type": "code",
   "execution_count": null,
   "metadata": {
    "execution": {
     "iopub.execute_input": "2024-12-02T13:46:24.011007Z",
     "iopub.status.busy": "2024-12-02T13:46:24.009981Z",
     "iopub.status.idle": "2024-12-02T13:46:24.052744Z",
     "shell.execute_reply": "2024-12-02T13:46:24.051631Z",
     "shell.execute_reply.started": "2024-12-02T13:46:24.010962Z"
    },
    "trusted": true
   },
   "outputs": [
    {
     "name": "stderr",
     "output_type": "stream",
     "text": [
      "/tmp/ipykernel_30/3524386921.py:13: DeprecationWarning: DataFrameGroupBy.apply operated on the grouping columns. This behavior is deprecated, and in a future version of pandas the grouping columns will be excluded from the operation. Either pass `include_groups=False` to exclude the groupings or explicitly select the grouping columns after groupby to silence this warning.\n",
      "  .apply(lambda x: x.sample(n=min(len(x), 20), random_state=3))\n"
     ]
    }
   ],
   "source": [
    "with open('/kaggle/working/trained_model_manual.pkl', 'rb') as model_file:\n",
    "    model = pickle.load(model_file)\n",
    "\n",
    "tfidf = model['tfidf']\n",
    "cosine_sim = model['cosine_sim']\n",
    "\n",
    "data_cloud = (\n",
    "    filtered_df\n",
    "    .groupby(['articleType', 'usage'], group_keys=False)\n",
    "    .apply(lambda x: x.sample(n=min(len(x), 20), random_state=3))\n",
    "    .reset_index(drop=True)\n",
    ")\n",
    "\n",
    "data_cloud['combined_features'] = data_cloud['articleType'] + ' ' + data_cloud['usage']"
   ]
  },
  {
   "cell_type": "code",
   "execution_count": 10,
   "metadata": {
    "execution": {
     "iopub.execute_input": "2024-12-02T13:46:26.382911Z",
     "iopub.status.busy": "2024-12-02T13:46:26.382532Z",
     "iopub.status.idle": "2024-12-02T13:46:26.394106Z",
     "shell.execute_reply": "2024-12-02T13:46:26.392991Z",
     "shell.execute_reply.started": "2024-12-02T13:46:26.382881Z"
    },
    "trusted": true
   },
   "outputs": [
    {
     "data": {
      "text/html": [
       "<div>\n",
       "<style scoped>\n",
       "    .dataframe tbody tr th:only-of-type {\n",
       "        vertical-align: middle;\n",
       "    }\n",
       "\n",
       "    .dataframe tbody tr th {\n",
       "        vertical-align: top;\n",
       "    }\n",
       "\n",
       "    .dataframe thead th {\n",
       "        text-align: right;\n",
       "    }\n",
       "</style>\n",
       "<table border=\"1\" class=\"dataframe\">\n",
       "  <thead>\n",
       "    <tr style=\"text-align: right;\">\n",
       "      <th></th>\n",
       "      <th>id</th>\n",
       "      <th>articleType</th>\n",
       "      <th>usage</th>\n",
       "      <th>combined_features</th>\n",
       "    </tr>\n",
       "  </thead>\n",
       "  <tbody>\n",
       "    <tr>\n",
       "      <th>0</th>\n",
       "      <td>25880</td>\n",
       "      <td>Backpacks</td>\n",
       "      <td>Casual</td>\n",
       "      <td>Backpacks Casual</td>\n",
       "    </tr>\n",
       "    <tr>\n",
       "      <th>1</th>\n",
       "      <td>25224</td>\n",
       "      <td>Backpacks</td>\n",
       "      <td>Casual</td>\n",
       "      <td>Backpacks Casual</td>\n",
       "    </tr>\n",
       "    <tr>\n",
       "      <th>2</th>\n",
       "      <td>51324</td>\n",
       "      <td>Backpacks</td>\n",
       "      <td>Casual</td>\n",
       "      <td>Backpacks Casual</td>\n",
       "    </tr>\n",
       "    <tr>\n",
       "      <th>3</th>\n",
       "      <td>24328</td>\n",
       "      <td>Backpacks</td>\n",
       "      <td>Casual</td>\n",
       "      <td>Backpacks Casual</td>\n",
       "    </tr>\n",
       "    <tr>\n",
       "      <th>4</th>\n",
       "      <td>53365</td>\n",
       "      <td>Backpacks</td>\n",
       "      <td>Casual</td>\n",
       "      <td>Backpacks Casual</td>\n",
       "    </tr>\n",
       "  </tbody>\n",
       "</table>\n",
       "</div>"
      ],
      "text/plain": [
       "      id articleType   usage combined_features\n",
       "0  25880   Backpacks  Casual  Backpacks Casual\n",
       "1  25224   Backpacks  Casual  Backpacks Casual\n",
       "2  51324   Backpacks  Casual  Backpacks Casual\n",
       "3  24328   Backpacks  Casual  Backpacks Casual\n",
       "4  53365   Backpacks  Casual  Backpacks Casual"
      ]
     },
     "execution_count": 10,
     "metadata": {},
     "output_type": "execute_result"
    }
   ],
   "source": [
    "data_cloud.head()"
   ]
  },
  {
   "cell_type": "code",
   "execution_count": null,
   "metadata": {
    "execution": {
     "iopub.execute_input": "2024-12-02T13:46:27.824943Z",
     "iopub.status.busy": "2024-12-02T13:46:27.824543Z",
     "iopub.status.idle": "2024-12-02T13:46:27.853787Z",
     "shell.execute_reply": "2024-12-02T13:46:27.852289Z",
     "shell.execute_reply.started": "2024-12-02T13:46:27.824908Z"
    },
    "trusted": true
   },
   "outputs": [
    {
     "name": "stdout",
     "output_type": "stream",
     "text": [
      "Rekomendasi produk untuk ID: 25880\n",
      "      id articleType   usage\n",
      "1  25224   Backpacks  Casual\n",
      "2  51324   Backpacks  Casual\n",
      "3  24328   Backpacks  Casual\n"
     ]
    }
   ],
   "source": [
    "tfidf_matrix_cloud = tfidf.transform(data_cloud['combined_features'])\n",
    "\n",
    "cosine_sim_cloud = cosine_similarity(tfidf_matrix_cloud, tfidf_matrix_cloud)\n",
    "\n",
    "def get_recommendations(product_id, cosine_sim, data_cloud):\n",
    "    idx = data_cloud.index[data_cloud['id'] == product_id].tolist()[0]\n",
    "\n",
    "    sim_scores = list(enumerate(cosine_sim[idx]))\n",
    "\n",
    "    sim_scores = sorted(sim_scores, key=lambda x: x[1], reverse=True)\n",
    "\n",
    "    sim_scores = sim_scores[1:4]\n",
    "\n",
    "    product_indices = [i[0] for i in sim_scores]\n",
    "\n",
    "    recommended_products = data_cloud.iloc[product_indices]\n",
    "\n",
    "    return recommended_products[['id', 'articleType', 'usage']]\n",
    "\n",
    "product_id_to_recommend = 25880  # Misalnya, kita ingin mendapatkan rekomendasi untuk produk dengan ID 101\n",
    "recommended_products = get_recommendations(product_id_to_recommend, cosine_sim_cloud, data_cloud)\n",
    "\n",
    "print(\"Rekomendasi produk untuk ID:\", product_id_to_recommend)\n",
    "print(recommended_products)"
   ]
  }
 ],
 "metadata": {
  "kaggle": {
   "accelerator": "none",
   "dataSources": [
    {
     "datasetId": 175990,
     "sourceId": 396802,
     "sourceType": "datasetVersion"
    }
   ],
   "dockerImageVersionId": 30787,
   "isGpuEnabled": false,
   "isInternetEnabled": true,
   "language": "python",
   "sourceType": "notebook"
  },
  "kernelspec": {
   "display_name": "Python 3",
   "language": "python",
   "name": "python3"
  },
  "language_info": {
   "codemirror_mode": {
    "name": "ipython",
    "version": 3
   },
   "file_extension": ".py",
   "mimetype": "text/x-python",
   "name": "python",
   "nbconvert_exporter": "python",
   "pygments_lexer": "ipython3",
   "version": "3.10.14"
  }
 },
 "nbformat": 4,
 "nbformat_minor": 4
}
